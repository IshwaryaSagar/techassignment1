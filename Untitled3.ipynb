{
 "cells": [
  {
   "cell_type": "code",
   "execution_count": null,
   "id": "bd4cb0e4",
   "metadata": {},
   "outputs": [],
   "source": [
    "Python Candidates - Question 1\n",
    "\n",
    "You will have a number of elements and in the next n lines element of a list. You have to create a list from the given strings. \n",
    "You have to sort the list based on 2nd last character of a string.\n",
    "\n",
    "For example: given list = ['great','hello','hiyo','abc'] so your output_dictionary should be ['great', 'abc', 'hello','hiyo']\n",
    "\n",
    "Input Format:\n",
    "\n",
    "At first-line it will have an integer (number of elements inside a list). In the second line, it will have a string.\n",
    "\n",
    "Output Format:\n",
    "\n",
    "A single line containing a sorted list.\n",
    "\n"
   ]
  },
  {
   "cell_type": "code",
   "execution_count": 1,
   "id": "8ed79425",
   "metadata": {},
   "outputs": [
    {
     "name": "stdout",
     "output_type": "stream",
     "text": [
      "['abc', 'great', 'hello', 'hiyo']\n",
      "['hiyo', 'hello', 'great', 'abc']\n"
     ]
    }
   ],
   "source": [
    "list = ['great','hello','hiyo','abc']\n",
    "    \n",
    "list.sort()\n",
    "\n",
    "print (sorted (list))\n",
    "\n",
    "\n",
    "\n",
    "\n",
    "print (sorted(list,reverse = True))\n"
   ]
  },
  {
   "cell_type": "code",
   "execution_count": null,
   "id": "62c93819",
   "metadata": {},
   "outputs": [],
   "source": []
  }
 ],
 "metadata": {
  "kernelspec": {
   "display_name": "Python 3 (ipykernel)",
   "language": "python",
   "name": "python3"
  },
  "language_info": {
   "codemirror_mode": {
    "name": "ipython",
    "version": 3
   },
   "file_extension": ".py",
   "mimetype": "text/x-python",
   "name": "python",
   "nbconvert_exporter": "python",
   "pygments_lexer": "ipython3",
   "version": "3.9.7"
  }
 },
 "nbformat": 4,
 "nbformat_minor": 5
}
